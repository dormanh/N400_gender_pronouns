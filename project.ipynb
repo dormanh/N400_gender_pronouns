{
 "cells": [
  {
   "cell_type": "markdown",
   "metadata": {},
   "source": [
    "### Contents <a id=\"top\">\n",
    "\n",
    "#### [Introduction](#intro)\n",
    "#### [Experimental design](#design)\n",
    "#### [Import packages and setup muselsl](#setup)\n",
    "#### [Shuffle sentences and time stimulus events](#shuffle)\n",
    "#### [Present stimulus](#present)\n",
    "#### [Analyse data](#analyse)"
   ]
  },
  {
   "cell_type": "markdown",
   "metadata": {},
   "source": [
    "-------"
   ]
  },
  {
   "cell_type": "markdown",
   "metadata": {},
   "source": [
    "### Introduction <a id=\"intro\">"
   ]
  },
  {
   "cell_type": "markdown",
   "metadata": {},
   "source": [
    "In the current experiment, I attempt to measure the N400, an ERP-component usually elicited by an increased load on semantic processing. The N400 is characterized by a negativity typically observable around 400 ms after the occurrence of the stimulus, maximal in amplitude in the central-parietal areas, but otherwise broadly distributed over the scalp. The N400 is sensitive to infrequent as well as contextually unexpected words. Semantic priming (the previous presentation of semantically related words) has been shown to reduce its amplitude. For more details, see [the Wikipedia page for the N400 ERP-component](https://en.wikipedia.org/wiki/N400_(neuroscience)).\n",
    "\n",
    "Here, I examine the contextual aspect of N400. I hypothesise that people in general tend to expect men and women to have jobs and demonstrate attitudes that are traditionally masculine or feminine, respectively. Therefore, sentences that communicate information deviating from these standards should elicit the N400 response due to difficulties in contextual processing.\n",
    "\n",
    "<a href=\"https://www.researchgate.net/figure/N400-and-P600-Components-of-the-ERP_fig1_326606501\"><img src=\"https://www.researchgate.net/profile/Patrick-Ledwidge/publication/326606501/figure/fig1/AS:652287580053505@1532528886461/N400-and-P600-Components-of-the-ERP.png\" alt=\"N400 and P600 Components of the ERP.\" width=\"400px\"/></a>\n",
    "\n",
    "(Source of the figure: The Impact of Sports-Related Concussions on the Language System: A Case for Event-Related Brain Potentials - Scientific Figure on ResearchGate. Available from: https://www.researchgate.net/figure/N400-and-P600-Components-of-the-ERP_fig1_326606501 [accessed 24 Jun, 2021])"
   ]
  },
  {
   "cell_type": "markdown",
   "metadata": {},
   "source": [
    "#### [back to top](#top)"
   ]
  },
  {
   "cell_type": "markdown",
   "metadata": {},
   "source": [
    "------"
   ]
  },
  {
   "cell_type": "markdown",
   "metadata": {},
   "source": [
    "### Experimental design  <a id=\"design\">"
   ]
  },
  {
   "cell_type": "markdown",
   "metadata": {},
   "source": [
    "Subjects are presented sentences word-by-word on a screen, with the following grammatical structure:\n",
    "\n",
    "$The$ $<subject>$ $<adverb>$ $<predicate>$ $<\\textit{possessive gender pronoun}>$ $<object>$.\n",
    "\n",
    "Some of these sentences express traditional relationships between the subject's gender and their professional activities, such as \"*The doctor carefully prepared his tools.*\", while others contain somewhat unusual phenomena, e.g. \"*The engineer tiredly cleaned her glasses.*\" I hypothesize that these latter sentences - due to their surprising gender-related content (e.g. engineering is usually perceived by the general public as a masculine occupation) - elicit an N400 component that differs significantly from the responses potentially elicited by convential sentences.\n",
    "\n",
    "Subjects of the experiment are all members of Rajk College for Advanced studies. Their native language is Hungarian, but they are practised English speakers, which is important as the sentences are presented in English. (I couldn't do the experiment in Hungarian due to the lack of gender-specific pronouns.)\n",
    "\n",
    "For stimulus presentation, I use the [`PsychoPy`](https://www.psychopy.org/index.html) package. I record neural activity with the help of the [Muse headband](https://choosemuse.com/) and use the [`muse-lsl`](https://github.com/alexandrebarachant/muse-lsl) package to visualize the EEG-recording in real time to adjust the headband and stabilize the signal. The muse headband has 2 frontal and 2 temporal electrodes, which is not ideal to measure the centro-parietally concentrated N400 component, but I hope that its extended nature allows me to catch some of the signal. Nevertheless, due to the simplified technology of this device and the potential noise disrupting the experimental conditions, the current study has its severe limitations."
   ]
  },
  {
   "cell_type": "markdown",
   "metadata": {},
   "source": [
    "#### [back to top](#top)"
   ]
  },
  {
   "cell_type": "markdown",
   "metadata": {},
   "source": [
    "------"
   ]
  },
  {
   "cell_type": "markdown",
   "metadata": {},
   "source": [
    "### Import packages and setup muselsl  <a id=\"setup\">"
   ]
  },
  {
   "cell_type": "code",
   "execution_count": 1,
   "metadata": {
    "scrolled": true
   },
   "outputs": [],
   "source": [
    "import psychopy\n",
    "from psychopy import visual, core\n",
    "from muselsl import view\n",
    "\n",
    "import time, datetime\n",
    "\n",
    "import numpy as np\n",
    "import pandas as pd\n",
    "import random\n",
    "\n",
    "import matplotlib\n",
    "from matplotlib import pyplot as plt"
   ]
  },
  {
   "cell_type": "markdown",
   "metadata": {},
   "source": [
    "#### record stream from command line\n",
    "\n",
    "The EEG signal is recorded for $100$ seconds to match the $\\sim 96$ s duration of the stimulus presentation.\n",
    "\n",
    "```muselsl stream -a 00:55:DA:B5:85:4C```\n",
    "\n",
    "```muselsl record -d 100 -f <file path>.csv```"
   ]
  },
  {
   "cell_type": "markdown",
   "metadata": {},
   "source": [
    "#### view real-time recording"
   ]
  },
  {
   "cell_type": "code",
   "execution_count": null,
   "metadata": {},
   "outputs": [],
   "source": [
    "view(version=3, backend=\"nbAgg\", figure='15x10')"
   ]
  },
  {
   "cell_type": "markdown",
   "metadata": {},
   "source": [
    "#### [back to top](#top)"
   ]
  },
  {
   "cell_type": "markdown",
   "metadata": {},
   "source": [
    "----------"
   ]
  },
  {
   "cell_type": "markdown",
   "metadata": {},
   "source": [
    "### Shuffle sentences and time stimulus events  <a id=\"shuffle\">"
   ]
  },
  {
   "cell_type": "markdown",
   "metadata": {},
   "source": [
    "Sentences are presented in a random order that differs for each subject. Stimulus presentation time is adjusted to the framerate: each word is shown for 20 frames, with a break lasting 5 frames within and 100 frames between sentences."
   ]
  },
  {
   "cell_type": "code",
   "execution_count": 3,
   "metadata": {},
   "outputs": [],
   "source": [
    "with open(\"sentences.txt\", \"r\") as f:\n",
    "    sentences = f.read().split(\"\\n\")"
   ]
  },
  {
   "cell_type": "code",
   "execution_count": 6,
   "metadata": {
    "scrolled": true
   },
   "outputs": [],
   "source": [
    "def construct_stimulus(sentences, word_pres_dur=20, within_break=5, between_break=100):\n",
    "    \"\"\"\n",
    "    Creates a dataframe, each row of which contain information about\n",
    "    an individual frame during stimulus presentation.\n",
    "\n",
    "    Parameters\n",
    "    ----------\n",
    "    sentences: list of strings\n",
    "        The sentences to be presented.\n",
    "    word_pres_dur: int, optional\n",
    "        Specifies the duration of presentation for each word in frames. Default is 20.\n",
    "    within_break: int, optional\n",
    "        Specifies the duration of within-sentence breaks between words in frames. Default is 5.\n",
    "    between_break: int, optional\n",
    "        Specifies the duration of breaks between sentences in frames. Default is 100.\n",
    "\n",
    "    Returns\n",
    "    ----------\n",
    "    out: pandas.core.frame.DataFrame\n",
    "        Dataframe containing the following columns:\n",
    "        - word: str, presented word\n",
    "        - sentence: int, sentence ID\n",
    "        - change: bool, indicates the appearance of a new word\n",
    "        - time: None, column to store exact presentation times during stimulus presentation\n",
    "    \"\"\"\n",
    "\n",
    "    indices = np.arange(len(sentences))\n",
    "    shuffled_indices = random.sample(indices, indices.shape[0])\n",
    "\n",
    "    return (\n",
    "        pd.concat(\n",
    "            [\n",
    "                pd.concat(\n",
    "                    [\n",
    "                        pd.DataFrame([word] * word_pres_dur, columns=[\"word\"]).append(\n",
    "                            pd.DataFrame([{\"word\": \"\"} for k in range(within_break)])\n",
    "                        )\n",
    "                        for word in sentences[i].split(\" \")\n",
    "                    ]\n",
    "                )\n",
    "                .append(pd.DataFrame([{\"word\": \"\"} for k in range(between_break)]))\n",
    "                .assign(sentence=i)\n",
    "                for i in shuffled_indices\n",
    "            ]\n",
    "        )\n",
    "        .reset_index(drop=True)\n",
    "        .assign(change=lambda df: df[\"word\"].ne(df[\"word\"].shift()), time=None)\n",
    "    )"
   ]
  },
  {
   "cell_type": "markdown",
   "metadata": {},
   "source": [
    "#### [back to top](#top)"
   ]
  },
  {
   "cell_type": "markdown",
   "metadata": {},
   "source": [
    "-------"
   ]
  },
  {
   "cell_type": "markdown",
   "metadata": {},
   "source": [
    "### Present stimulus  <a id=\"present\">"
   ]
  },
  {
   "cell_type": "code",
   "execution_count": 7,
   "metadata": {},
   "outputs": [],
   "source": [
    "subject = 0"
   ]
  },
  {
   "cell_type": "code",
   "execution_count": 48,
   "metadata": {},
   "outputs": [],
   "source": [
    "stim_df = construct_stimulus(sentences)"
   ]
  },
  {
   "cell_type": "code",
   "execution_count": null,
   "metadata": {},
   "outputs": [],
   "source": [
    "win = visual.Window([500, 500])\n",
    "message = visual.TextStim(win)\n",
    "\n",
    "# iterate over frames\n",
    "for i, r in stim_df.iloc[:100].iterrows():\n",
    "\n",
    "    # set the stimulus to the next word\n",
    "    if r[\"change\"]:\n",
    "        message.text = r[\"word\"]\n",
    "\n",
    "    # show the current word, unless it's a within-stimulus interval\n",
    "    if r[\"word\"]:\n",
    "        message.draw()\n",
    "\n",
    "    # record exact timing of each frame\n",
    "    stim_df.loc[i, \"time\"] = time.time()\n",
    "\n",
    "    # do not enter next iteration until the frame is refreshed\n",
    "    win.flip()\n",
    "\n",
    "win.close()"
   ]
  },
  {
   "cell_type": "code",
   "execution_count": null,
   "metadata": {},
   "outputs": [],
   "source": [
    "pd.DataFrame(stim_df).to_parquet(f\"output/stim_data_{subject}.parquet\")"
   ]
  },
  {
   "cell_type": "markdown",
   "metadata": {},
   "source": [
    "#### [back to top](#top)"
   ]
  },
  {
   "cell_type": "markdown",
   "metadata": {},
   "source": [
    "-----------"
   ]
  },
  {
   "cell_type": "markdown",
   "metadata": {},
   "source": [
    "### Analyse data  <a id=\"analyse\">"
   ]
  },
  {
   "cell_type": "code",
   "execution_count": 7,
   "metadata": {},
   "outputs": [],
   "source": []
  },
  {
   "cell_type": "markdown",
   "metadata": {},
   "source": [
    "#### [back to top](#top)"
   ]
  },
  {
   "cell_type": "markdown",
   "metadata": {},
   "source": [
    "----------"
   ]
  }
 ],
 "metadata": {
  "kernelspec": {
   "display_name": "Python 3",
   "language": "python",
   "name": "python3"
  },
  "language_info": {
   "codemirror_mode": {
    "name": "ipython",
    "version": 3
   },
   "file_extension": ".py",
   "mimetype": "text/x-python",
   "name": "python",
   "nbconvert_exporter": "python",
   "pygments_lexer": "ipython3",
   "version": "3.8.5"
  }
 },
 "nbformat": 4,
 "nbformat_minor": 4
}
